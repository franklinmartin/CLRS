{
 "cells": [
  {
   "cell_type": "markdown",
   "metadata": {},
   "source": [
    "## Problems"
   ]
  },
  {
   "cell_type": "markdown",
   "metadata": {},
   "source": [
    "### 1-1 Comparison of running times\n",
    "\n",
    "> For each function $f(n)$ and time $t$ in the following table, determine the largest size $n$ of a problem that can be solved in time $t$ , assuming that the algorithm to solve the problem takes $f(n)$ microseconds."
   ]
  },
  {
   "cell_type": "markdown",
   "metadata": {},
   "source": [
    "|            |  1 second  |  1 minute  |   1 hour   |   1 day    |  1 month   |   1 year   | 1 century  |\n",
    "|:----------:|:----------:|:----------:|:----------:|:----------:|:----------:|:----------:|:----------:|\n",
    "|  $lgn$   |$2^{10^6}$|$2^{6 \\times 10^{6}}$|$2^{3.6 \\times 10^{9}}$|$2^{8.64 \\times 10^{10}}$|$2^{2.59 \\times 10^{12}}$|$2^{3.15 \\times 10^{13}}$|$2^{3.15 \\times 10^{15}}$|\n",
    "|$\\sqrt{n}$|$10^{12}$ |$3.6 \\times 10 ^{15}$|$1.3 \\times 10^{19}$|$7.46 \\times 10^{21}$|$6.72 \\times 10^{24}$|$9.95 \\times 10^{26}$|$9.95 \\times 10^{30}$|\n",
    "|   $n$    |$10^6$|$6 \\times 10 ^{7}$|$3.6 \\times 10 ^{9}$|$8.64 \\times 10 ^{10}$|$2.59 \\times 10 ^{12}$|$3.15 \\times 10 ^{13}$|$3.15 \\times 10 ^{15}$|\n",
    "|  $nlgn$  |$6.24 \\times 10 ^{4}$|$2.8 \\times 10 ^{6}$|$1.33 \\times 10 ^{8}$|$2.76 \\times 10 ^{9}$|$7.19 \\times 10 ^{10}$|$7.98 \\times 10 ^{11}$|$6.86 \\times 10 ^{13}$|\n",
    "|  $n^2$   |$1000$|$7745$|$60000$|$293938$|$1609968$|$5615692$|$56156922$|\n",
    "|  $n^3$   |$100$|$391$|$1532$|$4420$|$13736$|$31593$|$146645$|\n",
    "|  $2^n$   |$19$|$25$|$31$|$36$|$41$|$44$|$51$|\n",
    "|   $n!$   |$9$|$11$|$12$|$13$|$15$|$16$|$17$|"
   ]
  },
  {
   "cell_type": "code",
   "execution_count": 11,
   "metadata": {},
   "outputs": [
    {
     "name": "stdout",
     "output_type": "stream",
     "text": [
      "1.000e+12 3.600e+15 1.296e+19 7.465e+21 6.916e+24 9.959e+26 9.959e+30\n",
      "1.000e+06 6.000e+07 3.600e+09 8.640e+10 2.630e+12 3.156e+13 3.156e+15\n",
      "6.275e+04 2.801e+06 1.334e+08 2.755e+09 7.288e+10 7.982e+11 6.866e+13\n",
      "1000 7745 60000 293938 1621665 5617615 56176151\n",
      "100 391 1532 4420 13803 31601 146679\n",
      "19 25 31 36 41 44 51\n",
      "9 11 12 13 15 16 17\n"
     ]
    }
   ],
   "source": [
    "import math\n",
    "\n",
    "second = 1\n",
    "minute = 60\n",
    "hour = 3600\n",
    "day = int(24*hour)\n",
    "month = int(30.4375*day)\n",
    "year = int(12*month)\n",
    "century = int(100*year)\n",
    "\n",
    "times = [second, minute, hour, day, month, year, century]\n",
    "for i in range(0, len(times)):\n",
    "    times[i] = times[i] * (10 ** 6)\n",
    "#print(times)\n",
    "\n",
    "lambda n : math.log2(n)\n",
    "\n",
    "#log(n) = t\n",
    "#n = 2^t\n",
    "functions = [lambda n : math.sqrt(n),\n",
    "             lambda n : n,\n",
    "             lambda n : n * math.log2(n),\n",
    "             lambda n : n ** 2,\n",
    "             lambda n : n ** 3,\n",
    "             lambda n : math.exp2(n),\n",
    "             lambda n : math.factorial(n)]\n",
    "\n",
    "bs = [1e40, 1e40, 1e40, 1e20, 1e20, 1000, 100]\n",
    "TOL = 1\n",
    "f_result = []\n",
    "for i in range(len(functions)):\n",
    "    result = []\n",
    "    for t in range(len(times)):\n",
    "        a = 1\n",
    "        b = bs[i]\n",
    "        n = 1\n",
    "        # terminates in log (b-a / TOL) ~ log(b)/log(2) ~ 133 steps, TOL = 1\n",
    "        while True:\n",
    "            c = (a + b) // 2\n",
    "            if functions[i](c) - times[t] == 0 or (b - a) // 2 < TOL:\n",
    "                result.append(c)\n",
    "                break\n",
    "            n += 1\n",
    "            if (functions[i](c) - times[t] < 0 and functions[i](a) - times[t] < 0) or (\n",
    "                    functions[i](c) - times[t] > 0 and functions[i](a) - times[t] > 0):\n",
    "                a = c\n",
    "            else:\n",
    "                b = c\n",
    "    if i < 3:\n",
    "        print(' '.join(map(lambda s: '{:.3e}'.format(s), result)))\n",
    "    else:\n",
    "        print(' '.join(map(lambda s: str(int(math.floor(s))), result)))\n",
    "    f_result += result\n",
    "#print(f_result)\n"
   ]
  }
 ],
 "metadata": {
  "kernelspec": {
   "display_name": "Python 3",
   "language": "python",
   "name": "python3"
  },
  "language_info": {
   "codemirror_mode": {
    "name": "ipython",
    "version": 3
   },
   "file_extension": ".py",
   "mimetype": "text/x-python",
   "name": "python",
   "nbconvert_exporter": "python",
   "pygments_lexer": "ipython3",
   "version": "3.11.8"
  }
 },
 "nbformat": 4,
 "nbformat_minor": 2
}
